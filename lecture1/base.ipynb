{
 "cells": [
  {
   "cell_type": "markdown",
   "metadata": {},
   "source": [
    "## Base using for tkinter"
   ]
  },
  {
   "cell_type": "markdown",
   "metadata": {},
   "source": [
    "A base tkinter application."
   ]
  },
  {
   "cell_type": "code",
   "execution_count": 1,
   "metadata": {},
   "outputs": [],
   "source": [
    "import tkinter as tk # import the tkinter package.\n",
    "\n",
    "app = tk.Tk() # The main program starts here.\n",
    "app.mainloop() # Starts the application's main loop, waiting for mouse and keyboard events."
   ]
  },
  {
   "cell_type": "markdown",
   "metadata": {},
   "source": [
    "#### A mininal application with an $\\textbf{Label}$."
   ]
  },
  {
   "cell_type": "code",
   "execution_count": 3,
   "metadata": {},
   "outputs": [],
   "source": [
    "import tkinter as tk\n",
    "\n",
    "app = tk.Tk() # The main program starts here.\n",
    "hello_label = tk.Label(app, text=\"hello world!\") # create an Label.\n",
    "hello_label.pack() # palce the label on the application\n",
    "app.mainloop()"
   ]
  },
  {
   "cell_type": "markdown",
   "metadata": {},
   "source": [
    "#### A mininal application with an \"Quit\" $\\textbf{button}$."
   ]
  },
  {
   "cell_type": "code",
   "execution_count": 1,
   "metadata": {},
   "outputs": [],
   "source": [
    "import tkinter as tk\n",
    "\n",
    "class Application(tk.Frame): # Your application class must inherit from Tkinter's Frame class.\n",
    "    def __init__(self, master=None):\n",
    "        tk.Frame.__init__(self, master) # Calls the constructor for the parent class, Frame.\n",
    "        self.grid() # Necessary to make the application actually appear on the screen.\n",
    "        self.createWidgets()\n",
    "    \n",
    "    def createWidgets(self):\n",
    "        self.quitButton = tk.Button(self, text='Quit', command=self.quit)\n",
    "        self.quitButton.grid() # Places the button on the application.\n",
    "\n",
    "app = Application()\n",
    "app.master.title('Sample application')\n",
    "app.mainloop()\n",
    "''' \n",
    "app = tk.Tk()\n",
    "button = tk.Button(app, text='Quit',command=app.quit)\n",
    "button.pack()\n",
    "app.mainloop()\n",
    "'''"
   ]
  },
  {
   "cell_type": "markdown",
   "metadata": {},
   "source": [
    "#### resizeable the Quit Button to  $\\textbf{Fullfill}$ window."
   ]
  },
  {
   "cell_type": "code",
   "execution_count": null,
   "metadata": {},
   "outputs": [],
   "source": [
    "import tkinter as tk\n",
    "\n",
    "class Application(tk.Frame): # Your application class must inherit from Tkinter's Frame class.\n",
    "    def __init__(self, master=None):\n",
    "        tk.Frame.__init__(self, master) # Calls the constructor for the parent class, Frame.\n",
    "        self.grid(sticky=tk.N+tk.S+tk.E+tk.W) # Necessary to make the application actually appear on the screen.\n",
    "        self.createWidgets()\n",
    "    \n",
    "    def createWidgets(self):\n",
    "        top = self.winfo_toplevel() # The “top level window” is the outermost window on the screen. However, this window is not your Application window—it is the parent of the Application instance. To get the top-level window, call the .winfo_toplevel() method on any widget in your application.\n",
    "        top.rowconfigure(0, weight=1) # This line makes row 0 of the top level window's grid stretchable.\n",
    "        top.columnconfigure(0, weight=1) # This line makes column 0 of the top level window's grid stretchable.\n",
    "        self.rowconfigure(0, weight=1) # Makes row 0 of the Application widget's grid stretchable.\n",
    "        self.columnconfigure(0, weight=1) # Makes column 0 of the Application widget's grid stretchable.\n",
    "        self.quitButton = tk.Button(self, text='Quit', command=self.quit)\n",
    "        self.quitButton.grid(row=0, column=0, sticky=tk.N+tk.S+tk.E+tk.W) # Places the button on the application.\n",
    "\n",
    "app = Application()\n",
    "app.master.title('Sample application')\n",
    "app.mainloop()"
   ]
  },
  {
   "cell_type": "code",
   "execution_count": null,
   "metadata": {},
   "outputs": [],
   "source": []
  }
 ],
 "metadata": {
  "interpreter": {
   "hash": "3a6dfd7a31fb85598d0a88597b0e979b7ef98d0e40a412791ed5d05a803570e9"
  },
  "kernelspec": {
   "display_name": "Python 3.7.8 64-bit",
   "language": "python",
   "name": "python3"
  },
  "language_info": {
   "codemirror_mode": {
    "name": "ipython",
    "version": 3
   },
   "file_extension": ".py",
   "mimetype": "text/x-python",
   "name": "python",
   "nbconvert_exporter": "python",
   "pygments_lexer": "ipython3",
   "version": "3.7.8"
  },
  "orig_nbformat": 4
 },
 "nbformat": 4,
 "nbformat_minor": 2
}
